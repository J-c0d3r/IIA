{
 "cells": [
  {
   "cell_type": "markdown",
   "metadata": {},
   "source": [
    "# Redes Perceptron\n",
    "\n",
    "* 1958 - Rosenblatt\n",
    "* Alimentação adiante\n",
    "* Neurônio artificial\n",
    "\n",
    "<img src=\"images/perceptron.png\">\n",
    "\n",
    "<img src=\"images/activation.png\">"
   ]
  },
  {
   "cell_type": "code",
   "execution_count": 2,
   "metadata": {},
   "outputs": [],
   "source": [
    "import numpy as np\n",
    "import matplotlib.pyplot as plt"
   ]
  },
  {
   "cell_type": "code",
   "execution_count": 3,
   "metadata": {},
   "outputs": [
    {
     "data": {
      "image/png": "[encoded data removed]",
      "text/plain": [
       "<Figure size 432x288 with 1 Axes>"
      ]
     },
     "metadata": {
      "needs_background": "light"
     },
     "output_type": "display_data"
    }
   ],
   "source": [
    "# Dataset\n",
    "x = np.array([[1.0, 1.0], [2.1, 2.4], [1.1, 0.3], [2.3, 3.2], [0.1, 0.6],\n",
    "              [0.5, 1.6], [1.7, 2.3], [0.7, 1.6], [3.2, 0.1], [2.2, 1.1],\n",
    "              [0.8, 1.9], [2.4, 1.6], [1.2, 1.2], [5.2, 7.2], [6.6, 4.5],\n",
    "              [4.9, 8.1], [7.6, 5.9], [8.8, 9.0], [5.6, 7.8], [8.8, 5.6],\n",
    "              [7.9, 9.1], [6.8, 9.2], [8.8, 6.9], [9.3, 5.6], [5.7, 7.5]\n",
    "             ])\n",
    "\n",
    "d = np.array([-1, -1, -1, -1, -1, -1, -1, -1, -1, -1, -1, -1, -1, 1, 1, 1, 1, 1, 1, 1, 1, 1, 1, 1, 1])\n",
    "\n",
    "plt.figure(figsize=(6,4))\n",
    "plt.title(\"Data points\")\n",
    "plt.scatter(x[:, 0], x[:, 1], c = d, cmap = 'bwr')\n",
    "plt.show()"
   ]
  },
  {
   "cell_type": "code",
   "execution_count": 95,
   "metadata": {},
   "outputs": [],
   "source": [
    "class Perceptron:\n",
    "    \n",
    "    def __init__(self, lr, n_epochs):\n",
    "        '''Construtor, define taxa de aprendizado e número máximo de épocas'''\n",
    "        self.lr = lr\n",
    "        self.n_epochs = n_epochs\n",
    "        \n",
    "    def activation(self, value):\n",
    "        ''' 1 se value > 0, -1 se value < 0, 0 se value == 0 '''\n",
    "        return (1 if value > 0 else -1 if value < 0 else 0)\n",
    "        \n",
    "    def predict(self, x):\n",
    "        ''' Multiplicação matricial entre as entradas e os pesos somado ao bias proporcional'''\n",
    "        return np.dot(x, self.weights.T) + self.bias * self.w_bias\n",
    "    \n",
    "    def evaluate(self, target, predicted):\n",
    "        ''' Calcula a diferença entre o valor real e o valor predito'''\n",
    "        return (target - predicted)\n",
    "    \n",
    "    def train(self, x, d):\n",
    "        ''' Definir aleatoriamente os pesos, o bias e o peso do bias\n",
    "            Enquanto houver erro, ou o máximo de épocas não for atingido continua o processo\n",
    "            \n",
    "        '''\n",
    "        self.weights = np.random.random(x.shape[1])\n",
    "        self.bias = np.random.random()\n",
    "        self.w_bias = np.random.random()\n",
    "        \n",
    "        epoch = 0\n",
    "        is_error = True\n",
    "        self.total_error = []\n",
    "        \n",
    "        while is_error and epoch < self.n_epochs:\n",
    "            \n",
    "            is_error  = False\n",
    "            epoch_errors = 0\n",
    "            \n",
    "            # Para cada amostra\n",
    "            for xi, target in zip(x, d):\n",
    "                \n",
    "                predicted = self.predict(xi)\n",
    "                predicted = self.activation(predicted)\n",
    "                \n",
    "                current_error = self.evaluate(target, predicted)\n",
    "                epoch_errors += current_error\n",
    "                \n",
    "                # Se houve erro, atualizar os pesos\n",
    "                if predicted != target:\n",
    "                    \n",
    "                    self.weights += self.lr * current_error * xi\n",
    "                    self.w_bias += self.lr * current_error * self.bias\n",
    "                    is_error = True\n",
    "                    \n",
    "            self.total_error.append(epoch_errors/len(x))\n",
    "            epoch += 1\n",
    "            \n",
    "    def test(self, x):\n",
    "        ''' Dado uma lista de X, submete-os à rede'''\n",
    "        results = []\n",
    "        for xi in x:\n",
    "            predict = self.predict(xi)\n",
    "            predict = self.activation(predict)\n",
    "            results.append(predict)\n",
    "            \n",
    "        return results"
   ]
  },
  {
   "cell_type": "code",
   "execution_count": 127,
   "metadata": {},
   "outputs": [],
   "source": [
    "p = Perceptron(lr = 0.1, n_epochs = 100)\n",
    "p.train(x = x, d = d)"
   ]
  },
  {
   "cell_type": "code",
   "execution_count": 128,
   "metadata": {},
   "outputs": [
    {
     "data": {
      "text/plain": [
       "[-1, -1, -1, 1, 1, 1]"
      ]
     },
     "execution_count": 128,
     "metadata": {},
     "output_type": "execute_result"
    }
   ],
   "source": [
    "x_teste = np.array([[1, 4], [3, 1], [3, 2], [5, 5], [6, 7], [4, 8]])\n",
    "\n",
    "teste_resultado = p.test(x_teste)\n",
    "teste_resultado"
   ]
  },
  {
   "cell_type": "code",
   "execution_count": 129,
   "metadata": {},
   "outputs": [
    {
     "data": {
      "image/png": "[encoded data removed]",
      "text/plain": [
       "<Figure size 864x576 with 1 Axes>"
      ]
     },
     "metadata": {
      "needs_background": "light"
     },
     "output_type": "display_data"
    }
   ],
   "source": [
    "plt.figure(figsize=(12,8))\n",
    "plt.title(\"Data points + Predicted\")\n",
    "plt.scatter(x[:, 0], x[:, 1], c = d, cmap = 'bwr')\n",
    "plt.scatter(x_teste[:, 0], x_teste[:, 1], c = teste_resultado, cmap = 'bwr', marker = \"*\", s=250)\n",
    "plt.show()"
   ]
  },
  {
   "cell_type": "code",
   "execution_count": 131,
   "metadata": {},
   "outputs": [
    {
     "data": {
      "image/png": "[encoded data removed]",
      "text/plain": [
       "<Figure size 432x288 with 1 Axes>"
      ]
     },
     "metadata": {
      "needs_background": "light"
     },
     "output_type": "display_data"
    }
   ],
   "source": [
    "plt.figure(figsize=(6,4))\n",
    "plt.title(\"Error\")\n",
    "plt.plot(p.total_error)\n",
    "plt.show()"
   ]
  },
  {
   "cell_type": "code",
   "execution_count": null,
   "metadata": {},
   "outputs": [],
   "source": [
    "#self.weights = np.array([0.5, 0.7])\n",
    "#self.bias = -1\n",
    "#self.w_bias = 0.1\n",
    "#x = np.array([[-1, -1], [-1, 1], [1, -1], [1, 1]])\n",
    "#d = np.array([-1,1,1,1])"
   ]
  }
 ],
 "metadata": {
  "kernelspec": {
   "display_name": "Python 3",
   "language": "python",
   "name": "python3"
  },
  "language_info": {
   "codemirror_mode": {
    "name": "ipython",
    "version": 3
   },
   "file_extension": ".py",
   "mimetype": "text/x-python",
   "name": "python",
   "nbconvert_exporter": "python",
   "pygments_lexer": "ipython3",
   "version": "3.8.8"
  }
 },
 "nbformat": 4,
 "nbformat_minor": 4
}
